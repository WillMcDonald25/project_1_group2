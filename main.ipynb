{
 "cells": [
  {
   "cell_type": "code",
   "execution_count": 2,
   "metadata": {},
   "outputs": [],
   "source": [
    "import requests\n",
    "import numpy as np\n",
    "import csv\n",
    "import pandas as pd\n",
    "import matplotlib.pyplot as plt\n",
    "from scipy import stats\n",
    "import json\n",
    "from config import weather_api_key"
   ]
  },
  {
   "cell_type": "code",
   "execution_count": 3,
   "metadata": {},
   "outputs": [],
   "source": [
    "url = \"https://api.openweathermap.org/data/3.0/onecall/timemachine?\"\n",
    "units = \"imperial\""
   ]
  },
  {
   "attachments": {},
   "cell_type": "markdown",
   "metadata": {},
   "source": [
    "# Reading CSV Data"
   ]
  },
  {
   "cell_type": "code",
   "execution_count": 4,
   "metadata": {},
   "outputs": [
    {
     "data": {
      "text/html": [
       "<div>\n",
       "<style scoped>\n",
       "    .dataframe tbody tr th:only-of-type {\n",
       "        vertical-align: middle;\n",
       "    }\n",
       "\n",
       "    .dataframe tbody tr th {\n",
       "        vertical-align: top;\n",
       "    }\n",
       "\n",
       "    .dataframe thead th {\n",
       "        text-align: right;\n",
       "    }\n",
       "</style>\n",
       "<table border=\"1\" class=\"dataframe\">\n",
       "  <thead>\n",
       "    <tr style=\"text-align: right;\">\n",
       "      <th></th>\n",
       "      <th>Unnamed: 0</th>\n",
       "      <th>key</th>\n",
       "      <th>fare_amount</th>\n",
       "      <th>pickup_datetime</th>\n",
       "      <th>pickup_longitude</th>\n",
       "      <th>pickup_latitude</th>\n",
       "      <th>dropoff_longitude</th>\n",
       "      <th>dropoff_latitude</th>\n",
       "      <th>passenger_count</th>\n",
       "    </tr>\n",
       "  </thead>\n",
       "  <tbody>\n",
       "    <tr>\n",
       "      <th>0</th>\n",
       "      <td>24238194</td>\n",
       "      <td>2015-05-07 19:52:06.0000003</td>\n",
       "      <td>7.5</td>\n",
       "      <td>2015-05-07 19:52:06 UTC</td>\n",
       "      <td>-73.999817</td>\n",
       "      <td>40.738354</td>\n",
       "      <td>-73.999512</td>\n",
       "      <td>40.723217</td>\n",
       "      <td>1</td>\n",
       "    </tr>\n",
       "    <tr>\n",
       "      <th>1</th>\n",
       "      <td>27835199</td>\n",
       "      <td>2009-07-17 20:04:56.0000002</td>\n",
       "      <td>7.7</td>\n",
       "      <td>2009-07-17 20:04:56 UTC</td>\n",
       "      <td>-73.994355</td>\n",
       "      <td>40.728225</td>\n",
       "      <td>-73.994710</td>\n",
       "      <td>40.750325</td>\n",
       "      <td>1</td>\n",
       "    </tr>\n",
       "    <tr>\n",
       "      <th>2</th>\n",
       "      <td>44984355</td>\n",
       "      <td>2009-08-24 21:45:00.00000061</td>\n",
       "      <td>12.9</td>\n",
       "      <td>2009-08-24 21:45:00 UTC</td>\n",
       "      <td>-74.005043</td>\n",
       "      <td>40.740770</td>\n",
       "      <td>-73.962565</td>\n",
       "      <td>40.772647</td>\n",
       "      <td>1</td>\n",
       "    </tr>\n",
       "    <tr>\n",
       "      <th>3</th>\n",
       "      <td>25894730</td>\n",
       "      <td>2009-06-26 08:22:21.0000001</td>\n",
       "      <td>5.3</td>\n",
       "      <td>2009-06-26 08:22:21 UTC</td>\n",
       "      <td>-73.976124</td>\n",
       "      <td>40.790844</td>\n",
       "      <td>-73.965316</td>\n",
       "      <td>40.803349</td>\n",
       "      <td>3</td>\n",
       "    </tr>\n",
       "    <tr>\n",
       "      <th>4</th>\n",
       "      <td>17610152</td>\n",
       "      <td>2014-08-28 17:47:00.000000188</td>\n",
       "      <td>16.0</td>\n",
       "      <td>2014-08-28 17:47:00 UTC</td>\n",
       "      <td>-73.925023</td>\n",
       "      <td>40.744085</td>\n",
       "      <td>-73.973082</td>\n",
       "      <td>40.761247</td>\n",
       "      <td>5</td>\n",
       "    </tr>\n",
       "  </tbody>\n",
       "</table>\n",
       "</div>"
      ],
      "text/plain": [
       "   Unnamed: 0                            key  fare_amount  \\\n",
       "0    24238194    2015-05-07 19:52:06.0000003          7.5   \n",
       "1    27835199    2009-07-17 20:04:56.0000002          7.7   \n",
       "2    44984355   2009-08-24 21:45:00.00000061         12.9   \n",
       "3    25894730    2009-06-26 08:22:21.0000001          5.3   \n",
       "4    17610152  2014-08-28 17:47:00.000000188         16.0   \n",
       "\n",
       "           pickup_datetime  pickup_longitude  pickup_latitude  \\\n",
       "0  2015-05-07 19:52:06 UTC        -73.999817        40.738354   \n",
       "1  2009-07-17 20:04:56 UTC        -73.994355        40.728225   \n",
       "2  2009-08-24 21:45:00 UTC        -74.005043        40.740770   \n",
       "3  2009-06-26 08:22:21 UTC        -73.976124        40.790844   \n",
       "4  2014-08-28 17:47:00 UTC        -73.925023        40.744085   \n",
       "\n",
       "   dropoff_longitude  dropoff_latitude  passenger_count  \n",
       "0         -73.999512         40.723217                1  \n",
       "1         -73.994710         40.750325                1  \n",
       "2         -73.962565         40.772647                1  \n",
       "3         -73.965316         40.803349                3  \n",
       "4         -73.973082         40.761247                5  "
      ]
     },
     "execution_count": 4,
     "metadata": {},
     "output_type": "execute_result"
    }
   ],
   "source": [
    "# Reading the CSV\n",
    "uber_csv = pd.read_csv(\"Resources/uber.csv\")\n",
    "\n",
    "uber_df = pd.DataFrame(uber_csv)\n",
    "\n",
    "uber_df.head()\n",
    "\n"
   ]
  },
  {
   "cell_type": "code",
   "execution_count": 5,
   "metadata": {},
   "outputs": [
    {
     "data": {
      "text/html": [
       "<div>\n",
       "<style scoped>\n",
       "    .dataframe tbody tr th:only-of-type {\n",
       "        vertical-align: middle;\n",
       "    }\n",
       "\n",
       "    .dataframe tbody tr th {\n",
       "        vertical-align: top;\n",
       "    }\n",
       "\n",
       "    .dataframe thead th {\n",
       "        text-align: right;\n",
       "    }\n",
       "</style>\n",
       "<table border=\"1\" class=\"dataframe\">\n",
       "  <thead>\n",
       "    <tr style=\"text-align: right;\">\n",
       "      <th></th>\n",
       "      <th>ID</th>\n",
       "      <th>N/A</th>\n",
       "      <th>Charge</th>\n",
       "      <th>Pickup Time</th>\n",
       "      <th>Pickup Lon</th>\n",
       "      <th>Pickup Lat</th>\n",
       "      <th>Dropoff Lon</th>\n",
       "      <th>Dropoff Lat</th>\n",
       "      <th>Passenger Count</th>\n",
       "    </tr>\n",
       "  </thead>\n",
       "  <tbody>\n",
       "    <tr>\n",
       "      <th>0</th>\n",
       "      <td>24238194</td>\n",
       "      <td>2015-05-07 19:52:06.0000003</td>\n",
       "      <td>7.5</td>\n",
       "      <td>2015-05-07 19:52:06 UTC</td>\n",
       "      <td>-73.999817</td>\n",
       "      <td>40.738354</td>\n",
       "      <td>-73.999512</td>\n",
       "      <td>40.723217</td>\n",
       "      <td>1</td>\n",
       "    </tr>\n",
       "    <tr>\n",
       "      <th>1</th>\n",
       "      <td>27835199</td>\n",
       "      <td>2009-07-17 20:04:56.0000002</td>\n",
       "      <td>7.7</td>\n",
       "      <td>2009-07-17 20:04:56 UTC</td>\n",
       "      <td>-73.994355</td>\n",
       "      <td>40.728225</td>\n",
       "      <td>-73.994710</td>\n",
       "      <td>40.750325</td>\n",
       "      <td>1</td>\n",
       "    </tr>\n",
       "    <tr>\n",
       "      <th>2</th>\n",
       "      <td>44984355</td>\n",
       "      <td>2009-08-24 21:45:00.00000061</td>\n",
       "      <td>12.9</td>\n",
       "      <td>2009-08-24 21:45:00 UTC</td>\n",
       "      <td>-74.005043</td>\n",
       "      <td>40.740770</td>\n",
       "      <td>-73.962565</td>\n",
       "      <td>40.772647</td>\n",
       "      <td>1</td>\n",
       "    </tr>\n",
       "    <tr>\n",
       "      <th>3</th>\n",
       "      <td>25894730</td>\n",
       "      <td>2009-06-26 08:22:21.0000001</td>\n",
       "      <td>5.3</td>\n",
       "      <td>2009-06-26 08:22:21 UTC</td>\n",
       "      <td>-73.976124</td>\n",
       "      <td>40.790844</td>\n",
       "      <td>-73.965316</td>\n",
       "      <td>40.803349</td>\n",
       "      <td>3</td>\n",
       "    </tr>\n",
       "    <tr>\n",
       "      <th>4</th>\n",
       "      <td>17610152</td>\n",
       "      <td>2014-08-28 17:47:00.000000188</td>\n",
       "      <td>16.0</td>\n",
       "      <td>2014-08-28 17:47:00 UTC</td>\n",
       "      <td>-73.925023</td>\n",
       "      <td>40.744085</td>\n",
       "      <td>-73.973082</td>\n",
       "      <td>40.761247</td>\n",
       "      <td>5</td>\n",
       "    </tr>\n",
       "  </tbody>\n",
       "</table>\n",
       "</div>"
      ],
      "text/plain": [
       "         ID                            N/A  Charge              Pickup Time  \\\n",
       "0  24238194    2015-05-07 19:52:06.0000003     7.5  2015-05-07 19:52:06 UTC   \n",
       "1  27835199    2009-07-17 20:04:56.0000002     7.7  2009-07-17 20:04:56 UTC   \n",
       "2  44984355   2009-08-24 21:45:00.00000061    12.9  2009-08-24 21:45:00 UTC   \n",
       "3  25894730    2009-06-26 08:22:21.0000001     5.3  2009-06-26 08:22:21 UTC   \n",
       "4  17610152  2014-08-28 17:47:00.000000188    16.0  2014-08-28 17:47:00 UTC   \n",
       "\n",
       "   Pickup Lon  Pickup Lat  Dropoff Lon  Dropoff Lat  Passenger Count  \n",
       "0  -73.999817   40.738354   -73.999512    40.723217                1  \n",
       "1  -73.994355   40.728225   -73.994710    40.750325                1  \n",
       "2  -74.005043   40.740770   -73.962565    40.772647                1  \n",
       "3  -73.976124   40.790844   -73.965316    40.803349                3  \n",
       "4  -73.925023   40.744085   -73.973082    40.761247                5  "
      ]
     },
     "execution_count": 5,
     "metadata": {},
     "output_type": "execute_result"
    }
   ],
   "source": [
    "# Renaming the headers\n",
    "uber_df.rename(columns = {'Unnamed: 0':'ID', 'key':'N/A', 'fare_amount':'Charge', \"pickup_datetime\":\"Pickup Time\",  \"pickup_longitude\": \"Pickup Lon\", \"pickup_latitude\":\"Pickup Lat\",  \n",
    "                          \"dropoff_longitude\": \"Dropoff Lon\", \"dropoff_latitude\": \"Dropoff Lat\", \"passenger_count\": \"Passenger Count\"}, inplace = True)\n",
    "\n",
    "uber_df.head()\n",
    "\n"
   ]
  },
  {
   "cell_type": "code",
   "execution_count": 6,
   "metadata": {},
   "outputs": [
    {
     "data": {
      "text/html": [
       "<div>\n",
       "<style scoped>\n",
       "    .dataframe tbody tr th:only-of-type {\n",
       "        vertical-align: middle;\n",
       "    }\n",
       "\n",
       "    .dataframe tbody tr th {\n",
       "        vertical-align: top;\n",
       "    }\n",
       "\n",
       "    .dataframe thead th {\n",
       "        text-align: right;\n",
       "    }\n",
       "</style>\n",
       "<table border=\"1\" class=\"dataframe\">\n",
       "  <thead>\n",
       "    <tr style=\"text-align: right;\">\n",
       "      <th></th>\n",
       "      <th>ID</th>\n",
       "      <th>N/A</th>\n",
       "      <th>Charge</th>\n",
       "      <th>Pickup Time</th>\n",
       "      <th>Pickup Lon</th>\n",
       "      <th>Pickup Lat</th>\n",
       "      <th>Dropoff Lon</th>\n",
       "      <th>Dropoff Lat</th>\n",
       "      <th>Passenger Count</th>\n",
       "    </tr>\n",
       "  </thead>\n",
       "  <tbody>\n",
       "    <tr>\n",
       "      <th>105747</th>\n",
       "      <td>52076375</td>\n",
       "      <td>2009-03-03 23:58:29.0000002</td>\n",
       "      <td>6.6</td>\n",
       "      <td>2009-03-03 23:58:29 UTC</td>\n",
       "      <td>-73.983356</td>\n",
       "      <td>40.762669</td>\n",
       "      <td>-73.979511</td>\n",
       "      <td>40.744648</td>\n",
       "      <td>2</td>\n",
       "    </tr>\n",
       "    <tr>\n",
       "      <th>8856</th>\n",
       "      <td>10985447</td>\n",
       "      <td>2015-01-03 13:15:21.0000004</td>\n",
       "      <td>13.0</td>\n",
       "      <td>2015-01-03 13:15:21 UTC</td>\n",
       "      <td>-73.993492</td>\n",
       "      <td>40.762238</td>\n",
       "      <td>-73.961349</td>\n",
       "      <td>40.756355</td>\n",
       "      <td>1</td>\n",
       "    </tr>\n",
       "    <tr>\n",
       "      <th>183977</th>\n",
       "      <td>12102837</td>\n",
       "      <td>2014-02-01 22:08:23.0000004</td>\n",
       "      <td>10.5</td>\n",
       "      <td>2014-02-01 22:08:23 UTC</td>\n",
       "      <td>-73.972224</td>\n",
       "      <td>40.756755</td>\n",
       "      <td>-73.993970</td>\n",
       "      <td>40.727392</td>\n",
       "      <td>1</td>\n",
       "    </tr>\n",
       "    <tr>\n",
       "      <th>30660</th>\n",
       "      <td>16796350</td>\n",
       "      <td>2010-06-27 19:38:00.000000125</td>\n",
       "      <td>7.3</td>\n",
       "      <td>2010-06-27 19:38:00 UTC</td>\n",
       "      <td>-73.993995</td>\n",
       "      <td>40.751357</td>\n",
       "      <td>-73.994408</td>\n",
       "      <td>40.763447</td>\n",
       "      <td>1</td>\n",
       "    </tr>\n",
       "    <tr>\n",
       "      <th>77552</th>\n",
       "      <td>26647756</td>\n",
       "      <td>2012-01-25 15:14:29.0000002</td>\n",
       "      <td>4.1</td>\n",
       "      <td>2012-01-25 15:14:29 UTC</td>\n",
       "      <td>-73.980909</td>\n",
       "      <td>40.753678</td>\n",
       "      <td>-73.980392</td>\n",
       "      <td>40.746481</td>\n",
       "      <td>1</td>\n",
       "    </tr>\n",
       "  </tbody>\n",
       "</table>\n",
       "</div>"
      ],
      "text/plain": [
       "              ID                            N/A  Charge  \\\n",
       "105747  52076375    2009-03-03 23:58:29.0000002     6.6   \n",
       "8856    10985447    2015-01-03 13:15:21.0000004    13.0   \n",
       "183977  12102837    2014-02-01 22:08:23.0000004    10.5   \n",
       "30660   16796350  2010-06-27 19:38:00.000000125     7.3   \n",
       "77552   26647756    2012-01-25 15:14:29.0000002     4.1   \n",
       "\n",
       "                    Pickup Time  Pickup Lon  Pickup Lat  Dropoff Lon  \\\n",
       "105747  2009-03-03 23:58:29 UTC  -73.983356   40.762669   -73.979511   \n",
       "8856    2015-01-03 13:15:21 UTC  -73.993492   40.762238   -73.961349   \n",
       "183977  2014-02-01 22:08:23 UTC  -73.972224   40.756755   -73.993970   \n",
       "30660   2010-06-27 19:38:00 UTC  -73.993995   40.751357   -73.994408   \n",
       "77552   2012-01-25 15:14:29 UTC  -73.980909   40.753678   -73.980392   \n",
       "\n",
       "        Dropoff Lat  Passenger Count  \n",
       "105747    40.744648                2  \n",
       "8856      40.756355                1  \n",
       "183977    40.727392                1  \n",
       "30660     40.763447                1  \n",
       "77552     40.746481                1  "
      ]
     },
     "execution_count": 6,
     "metadata": {},
     "output_type": "execute_result"
    }
   ],
   "source": [
    "# Grabbing a sample of the data\n",
    "uber_df3 = uber_df.sample(n=5)\n",
    "uber_df3.head()"
   ]
  },
  {
   "attachments": {},
   "cell_type": "markdown",
   "metadata": {},
   "source": [
    "# Formatting Data"
   ]
  },
  {
   "cell_type": "code",
   "execution_count": 7,
   "metadata": {},
   "outputs": [
    {
     "data": {
      "text/html": [
       "<div>\n",
       "<style scoped>\n",
       "    .dataframe tbody tr th:only-of-type {\n",
       "        vertical-align: middle;\n",
       "    }\n",
       "\n",
       "    .dataframe tbody tr th {\n",
       "        vertical-align: top;\n",
       "    }\n",
       "\n",
       "    .dataframe thead th {\n",
       "        text-align: right;\n",
       "    }\n",
       "</style>\n",
       "<table border=\"1\" class=\"dataframe\">\n",
       "  <thead>\n",
       "    <tr style=\"text-align: right;\">\n",
       "      <th></th>\n",
       "      <th>ID</th>\n",
       "      <th>N/A</th>\n",
       "      <th>Charge</th>\n",
       "      <th>Pickup Time</th>\n",
       "      <th>Pickup Lon</th>\n",
       "      <th>Pickup Lat</th>\n",
       "      <th>Dropoff Lon</th>\n",
       "      <th>Dropoff Lat</th>\n",
       "      <th>Passenger Count</th>\n",
       "      <th>Date Formatted</th>\n",
       "    </tr>\n",
       "  </thead>\n",
       "  <tbody>\n",
       "    <tr>\n",
       "      <th>105747</th>\n",
       "      <td>52076375</td>\n",
       "      <td>2009-03-03 23:58:29.0000002</td>\n",
       "      <td>6.6</td>\n",
       "      <td>2009-03-03 23:58:29 UTC</td>\n",
       "      <td>-73.983356</td>\n",
       "      <td>40.762669</td>\n",
       "      <td>-73.979511</td>\n",
       "      <td>40.744648</td>\n",
       "      <td>2</td>\n",
       "      <td>2009-03-03 23:58:29+00:00</td>\n",
       "    </tr>\n",
       "    <tr>\n",
       "      <th>8856</th>\n",
       "      <td>10985447</td>\n",
       "      <td>2015-01-03 13:15:21.0000004</td>\n",
       "      <td>13.0</td>\n",
       "      <td>2015-01-03 13:15:21 UTC</td>\n",
       "      <td>-73.993492</td>\n",
       "      <td>40.762238</td>\n",
       "      <td>-73.961349</td>\n",
       "      <td>40.756355</td>\n",
       "      <td>1</td>\n",
       "      <td>2015-01-03 13:15:21+00:00</td>\n",
       "    </tr>\n",
       "    <tr>\n",
       "      <th>183977</th>\n",
       "      <td>12102837</td>\n",
       "      <td>2014-02-01 22:08:23.0000004</td>\n",
       "      <td>10.5</td>\n",
       "      <td>2014-02-01 22:08:23 UTC</td>\n",
       "      <td>-73.972224</td>\n",
       "      <td>40.756755</td>\n",
       "      <td>-73.993970</td>\n",
       "      <td>40.727392</td>\n",
       "      <td>1</td>\n",
       "      <td>2014-02-01 22:08:23+00:00</td>\n",
       "    </tr>\n",
       "    <tr>\n",
       "      <th>30660</th>\n",
       "      <td>16796350</td>\n",
       "      <td>2010-06-27 19:38:00.000000125</td>\n",
       "      <td>7.3</td>\n",
       "      <td>2010-06-27 19:38:00 UTC</td>\n",
       "      <td>-73.993995</td>\n",
       "      <td>40.751357</td>\n",
       "      <td>-73.994408</td>\n",
       "      <td>40.763447</td>\n",
       "      <td>1</td>\n",
       "      <td>2010-06-27 19:38:00+00:00</td>\n",
       "    </tr>\n",
       "    <tr>\n",
       "      <th>77552</th>\n",
       "      <td>26647756</td>\n",
       "      <td>2012-01-25 15:14:29.0000002</td>\n",
       "      <td>4.1</td>\n",
       "      <td>2012-01-25 15:14:29 UTC</td>\n",
       "      <td>-73.980909</td>\n",
       "      <td>40.753678</td>\n",
       "      <td>-73.980392</td>\n",
       "      <td>40.746481</td>\n",
       "      <td>1</td>\n",
       "      <td>2012-01-25 15:14:29+00:00</td>\n",
       "    </tr>\n",
       "  </tbody>\n",
       "</table>\n",
       "</div>"
      ],
      "text/plain": [
       "              ID                            N/A  Charge  \\\n",
       "105747  52076375    2009-03-03 23:58:29.0000002     6.6   \n",
       "8856    10985447    2015-01-03 13:15:21.0000004    13.0   \n",
       "183977  12102837    2014-02-01 22:08:23.0000004    10.5   \n",
       "30660   16796350  2010-06-27 19:38:00.000000125     7.3   \n",
       "77552   26647756    2012-01-25 15:14:29.0000002     4.1   \n",
       "\n",
       "                    Pickup Time  Pickup Lon  Pickup Lat  Dropoff Lon  \\\n",
       "105747  2009-03-03 23:58:29 UTC  -73.983356   40.762669   -73.979511   \n",
       "8856    2015-01-03 13:15:21 UTC  -73.993492   40.762238   -73.961349   \n",
       "183977  2014-02-01 22:08:23 UTC  -73.972224   40.756755   -73.993970   \n",
       "30660   2010-06-27 19:38:00 UTC  -73.993995   40.751357   -73.994408   \n",
       "77552   2012-01-25 15:14:29 UTC  -73.980909   40.753678   -73.980392   \n",
       "\n",
       "        Dropoff Lat  Passenger Count            Date Formatted  \n",
       "105747    40.744648                2 2009-03-03 23:58:29+00:00  \n",
       "8856      40.756355                1 2015-01-03 13:15:21+00:00  \n",
       "183977    40.727392                1 2014-02-01 22:08:23+00:00  \n",
       "30660     40.763447                1 2010-06-27 19:38:00+00:00  \n",
       "77552     40.746481                1 2012-01-25 15:14:29+00:00  "
      ]
     },
     "execution_count": 7,
     "metadata": {},
     "output_type": "execute_result"
    }
   ],
   "source": [
    "# Formatting the date step one\n",
    "uber_df3['Date Formatted'] = (pd.to_datetime(uber_df3['Pickup Time'], yearfirst=True, utc=True)) \n",
    " \n",
    "uber_df3.head()\n"
   ]
  },
  {
   "cell_type": "code",
   "execution_count": 8,
   "metadata": {},
   "outputs": [
    {
     "data": {
      "text/html": [
       "<div>\n",
       "<style scoped>\n",
       "    .dataframe tbody tr th:only-of-type {\n",
       "        vertical-align: middle;\n",
       "    }\n",
       "\n",
       "    .dataframe tbody tr th {\n",
       "        vertical-align: top;\n",
       "    }\n",
       "\n",
       "    .dataframe thead th {\n",
       "        text-align: right;\n",
       "    }\n",
       "</style>\n",
       "<table border=\"1\" class=\"dataframe\">\n",
       "  <thead>\n",
       "    <tr style=\"text-align: right;\">\n",
       "      <th></th>\n",
       "      <th>ID</th>\n",
       "      <th>N/A</th>\n",
       "      <th>Charge</th>\n",
       "      <th>Pickup Time</th>\n",
       "      <th>Pickup Lon</th>\n",
       "      <th>Pickup Lat</th>\n",
       "      <th>Dropoff Lon</th>\n",
       "      <th>Dropoff Lat</th>\n",
       "      <th>Passenger Count</th>\n",
       "      <th>Date Formatted</th>\n",
       "      <th>Date Formatted Final</th>\n",
       "    </tr>\n",
       "  </thead>\n",
       "  <tbody>\n",
       "    <tr>\n",
       "      <th>105747</th>\n",
       "      <td>52076375</td>\n",
       "      <td>2009-03-03 23:58:29.0000002</td>\n",
       "      <td>6.6</td>\n",
       "      <td>2009-03-03 23:58:29 UTC</td>\n",
       "      <td>-73.983356</td>\n",
       "      <td>40.762669</td>\n",
       "      <td>-73.979511</td>\n",
       "      <td>40.744648</td>\n",
       "      <td>2</td>\n",
       "      <td>2009-03-03 23:58:29+00:00</td>\n",
       "      <td>1236124709</td>\n",
       "    </tr>\n",
       "    <tr>\n",
       "      <th>8856</th>\n",
       "      <td>10985447</td>\n",
       "      <td>2015-01-03 13:15:21.0000004</td>\n",
       "      <td>13.0</td>\n",
       "      <td>2015-01-03 13:15:21 UTC</td>\n",
       "      <td>-73.993492</td>\n",
       "      <td>40.762238</td>\n",
       "      <td>-73.961349</td>\n",
       "      <td>40.756355</td>\n",
       "      <td>1</td>\n",
       "      <td>2015-01-03 13:15:21+00:00</td>\n",
       "      <td>1420290921</td>\n",
       "    </tr>\n",
       "    <tr>\n",
       "      <th>183977</th>\n",
       "      <td>12102837</td>\n",
       "      <td>2014-02-01 22:08:23.0000004</td>\n",
       "      <td>10.5</td>\n",
       "      <td>2014-02-01 22:08:23 UTC</td>\n",
       "      <td>-73.972224</td>\n",
       "      <td>40.756755</td>\n",
       "      <td>-73.993970</td>\n",
       "      <td>40.727392</td>\n",
       "      <td>1</td>\n",
       "      <td>2014-02-01 22:08:23+00:00</td>\n",
       "      <td>1391292503</td>\n",
       "    </tr>\n",
       "    <tr>\n",
       "      <th>30660</th>\n",
       "      <td>16796350</td>\n",
       "      <td>2010-06-27 19:38:00.000000125</td>\n",
       "      <td>7.3</td>\n",
       "      <td>2010-06-27 19:38:00 UTC</td>\n",
       "      <td>-73.993995</td>\n",
       "      <td>40.751357</td>\n",
       "      <td>-73.994408</td>\n",
       "      <td>40.763447</td>\n",
       "      <td>1</td>\n",
       "      <td>2010-06-27 19:38:00+00:00</td>\n",
       "      <td>1277667480</td>\n",
       "    </tr>\n",
       "    <tr>\n",
       "      <th>77552</th>\n",
       "      <td>26647756</td>\n",
       "      <td>2012-01-25 15:14:29.0000002</td>\n",
       "      <td>4.1</td>\n",
       "      <td>2012-01-25 15:14:29 UTC</td>\n",
       "      <td>-73.980909</td>\n",
       "      <td>40.753678</td>\n",
       "      <td>-73.980392</td>\n",
       "      <td>40.746481</td>\n",
       "      <td>1</td>\n",
       "      <td>2012-01-25 15:14:29+00:00</td>\n",
       "      <td>1327504469</td>\n",
       "    </tr>\n",
       "  </tbody>\n",
       "</table>\n",
       "</div>"
      ],
      "text/plain": [
       "              ID                            N/A  Charge  \\\n",
       "105747  52076375    2009-03-03 23:58:29.0000002     6.6   \n",
       "8856    10985447    2015-01-03 13:15:21.0000004    13.0   \n",
       "183977  12102837    2014-02-01 22:08:23.0000004    10.5   \n",
       "30660   16796350  2010-06-27 19:38:00.000000125     7.3   \n",
       "77552   26647756    2012-01-25 15:14:29.0000002     4.1   \n",
       "\n",
       "                    Pickup Time  Pickup Lon  Pickup Lat  Dropoff Lon  \\\n",
       "105747  2009-03-03 23:58:29 UTC  -73.983356   40.762669   -73.979511   \n",
       "8856    2015-01-03 13:15:21 UTC  -73.993492   40.762238   -73.961349   \n",
       "183977  2014-02-01 22:08:23 UTC  -73.972224   40.756755   -73.993970   \n",
       "30660   2010-06-27 19:38:00 UTC  -73.993995   40.751357   -73.994408   \n",
       "77552   2012-01-25 15:14:29 UTC  -73.980909   40.753678   -73.980392   \n",
       "\n",
       "        Dropoff Lat  Passenger Count            Date Formatted  \\\n",
       "105747    40.744648                2 2009-03-03 23:58:29+00:00   \n",
       "8856      40.756355                1 2015-01-03 13:15:21+00:00   \n",
       "183977    40.727392                1 2014-02-01 22:08:23+00:00   \n",
       "30660     40.763447                1 2010-06-27 19:38:00+00:00   \n",
       "77552     40.746481                1 2012-01-25 15:14:29+00:00   \n",
       "\n",
       "        Date Formatted Final  \n",
       "105747            1236124709  \n",
       "8856              1420290921  \n",
       "183977            1391292503  \n",
       "30660             1277667480  \n",
       "77552             1327504469  "
      ]
     },
     "execution_count": 8,
     "metadata": {},
     "output_type": "execute_result"
    }
   ],
   "source": [
    "# Final Formatted date added to dataframe\n",
    "uber_df3['Date Formatted Final'] = (uber_df3[\"Date Formatted\"] - pd.Timestamp(\"1970-01-01\", tz=\"UTC\")) // pd.Timedelta('1s')\n",
    "\n",
    "uber_df3.head()"
   ]
  },
  {
   "cell_type": "code",
   "execution_count": 9,
   "metadata": {},
   "outputs": [
    {
     "data": {
      "text/html": [
       "<div>\n",
       "<style scoped>\n",
       "    .dataframe tbody tr th:only-of-type {\n",
       "        vertical-align: middle;\n",
       "    }\n",
       "\n",
       "    .dataframe tbody tr th {\n",
       "        vertical-align: top;\n",
       "    }\n",
       "\n",
       "    .dataframe thead th {\n",
       "        text-align: right;\n",
       "    }\n",
       "</style>\n",
       "<table border=\"1\" class=\"dataframe\">\n",
       "  <thead>\n",
       "    <tr style=\"text-align: right;\">\n",
       "      <th></th>\n",
       "      <th>ID</th>\n",
       "      <th>Charge</th>\n",
       "      <th>Pickup Lon</th>\n",
       "      <th>Pickup Lat</th>\n",
       "      <th>Dropoff Lon</th>\n",
       "      <th>Dropoff Lat</th>\n",
       "      <th>Passenger Count</th>\n",
       "      <th>Date Formatted Final</th>\n",
       "    </tr>\n",
       "  </thead>\n",
       "  <tbody>\n",
       "    <tr>\n",
       "      <th>105747</th>\n",
       "      <td>52076375</td>\n",
       "      <td>6.6</td>\n",
       "      <td>-73.983356</td>\n",
       "      <td>40.762669</td>\n",
       "      <td>-73.979511</td>\n",
       "      <td>40.744648</td>\n",
       "      <td>2</td>\n",
       "      <td>1236124709</td>\n",
       "    </tr>\n",
       "    <tr>\n",
       "      <th>8856</th>\n",
       "      <td>10985447</td>\n",
       "      <td>13.0</td>\n",
       "      <td>-73.993492</td>\n",
       "      <td>40.762238</td>\n",
       "      <td>-73.961349</td>\n",
       "      <td>40.756355</td>\n",
       "      <td>1</td>\n",
       "      <td>1420290921</td>\n",
       "    </tr>\n",
       "    <tr>\n",
       "      <th>183977</th>\n",
       "      <td>12102837</td>\n",
       "      <td>10.5</td>\n",
       "      <td>-73.972224</td>\n",
       "      <td>40.756755</td>\n",
       "      <td>-73.993970</td>\n",
       "      <td>40.727392</td>\n",
       "      <td>1</td>\n",
       "      <td>1391292503</td>\n",
       "    </tr>\n",
       "    <tr>\n",
       "      <th>30660</th>\n",
       "      <td>16796350</td>\n",
       "      <td>7.3</td>\n",
       "      <td>-73.993995</td>\n",
       "      <td>40.751357</td>\n",
       "      <td>-73.994408</td>\n",
       "      <td>40.763447</td>\n",
       "      <td>1</td>\n",
       "      <td>1277667480</td>\n",
       "    </tr>\n",
       "    <tr>\n",
       "      <th>77552</th>\n",
       "      <td>26647756</td>\n",
       "      <td>4.1</td>\n",
       "      <td>-73.980909</td>\n",
       "      <td>40.753678</td>\n",
       "      <td>-73.980392</td>\n",
       "      <td>40.746481</td>\n",
       "      <td>1</td>\n",
       "      <td>1327504469</td>\n",
       "    </tr>\n",
       "  </tbody>\n",
       "</table>\n",
       "</div>"
      ],
      "text/plain": [
       "              ID  Charge  Pickup Lon  Pickup Lat  Dropoff Lon  Dropoff Lat  \\\n",
       "105747  52076375     6.6  -73.983356   40.762669   -73.979511    40.744648   \n",
       "8856    10985447    13.0  -73.993492   40.762238   -73.961349    40.756355   \n",
       "183977  12102837    10.5  -73.972224   40.756755   -73.993970    40.727392   \n",
       "30660   16796350     7.3  -73.993995   40.751357   -73.994408    40.763447   \n",
       "77552   26647756     4.1  -73.980909   40.753678   -73.980392    40.746481   \n",
       "\n",
       "        Passenger Count  Date Formatted Final  \n",
       "105747                2            1236124709  \n",
       "8856                  1            1420290921  \n",
       "183977                1            1391292503  \n",
       "30660                 1            1277667480  \n",
       "77552                 1            1327504469  "
      ]
     },
     "execution_count": 9,
     "metadata": {},
     "output_type": "execute_result"
    }
   ],
   "source": [
    "#Creating the clean dataframe\n",
    "clean_df = uber_df3[[\"ID\", \"Charge\", \"Pickup Lon\", \"Pickup Lat\", \"Dropoff Lon\", \"Dropoff Lat\", \"Passenger Count\", \"Date Formatted Final\" ]]\n",
    "\n",
    "\n",
    "clean_df.head()"
   ]
  },
  {
   "attachments": {},
   "cell_type": "markdown",
   "metadata": {},
   "source": [
    "# Gathering info for our hypothesis tests"
   ]
  },
  {
   "cell_type": "code",
   "execution_count": 10,
   "metadata": {},
   "outputs": [],
   "source": [
    "# Making the list for data \n",
    "uber_data = []\n",
    "\n",
    "# Looping through the data\n",
    "for i, row in clean_df.iterrows():\n",
    "\n",
    "    # Gathering the latitude, longitude, and pickup time\n",
    "    lat = row['Pickup Lat']\n",
    "    lon = row['Pickup Lon']\n",
    "    date = row['Date Formatted Final'].astype(int)\n",
    "    \n",
    "    # Making the query for the search using the varibles\n",
    "    query_url = f\"{url}lat={lat}&lon={lon}&dt={date}&appid={weather_api_key}&units={units}\"\n",
    "    \n",
    "    # Getting the info from the api\n",
    "    response = requests.get(query_url).json()\n",
    "\n",
    "    # Gathering variables for statistics\n",
    "    temp = response['data'][0]['temp']\n",
    "    hum = response['data'][0]['humidity']\n",
    "    desc = response['data'][0]['weather'][0]['description']\n",
    "\n",
    "    # Placing variables into a dictionary\n",
    "    uber_data.append({\"Pickup Lat\": lat,\n",
    "                            \"Temp (F)\": temp,\n",
    "                            \"Humidity %\": hum,\n",
    "                            \"Description\": desc\n",
    "    })\n",
    "\n",
    "\n",
    "    \n",
    "    \n",
    "   "
   ]
  },
  {
   "cell_type": "code",
   "execution_count": 11,
   "metadata": {},
   "outputs": [
    {
     "data": {
      "text/html": [
       "<div>\n",
       "<style scoped>\n",
       "    .dataframe tbody tr th:only-of-type {\n",
       "        vertical-align: middle;\n",
       "    }\n",
       "\n",
       "    .dataframe tbody tr th {\n",
       "        vertical-align: top;\n",
       "    }\n",
       "\n",
       "    .dataframe thead th {\n",
       "        text-align: right;\n",
       "    }\n",
       "</style>\n",
       "<table border=\"1\" class=\"dataframe\">\n",
       "  <thead>\n",
       "    <tr style=\"text-align: right;\">\n",
       "      <th></th>\n",
       "      <th>Pickup Lat</th>\n",
       "      <th>Temp (F)</th>\n",
       "      <th>Humidity %</th>\n",
       "      <th>Description</th>\n",
       "    </tr>\n",
       "  </thead>\n",
       "  <tbody>\n",
       "    <tr>\n",
       "      <th>0</th>\n",
       "      <td>40.762669</td>\n",
       "      <td>25.23</td>\n",
       "      <td>37</td>\n",
       "      <td>clear sky</td>\n",
       "    </tr>\n",
       "    <tr>\n",
       "      <th>1</th>\n",
       "      <td>40.762238</td>\n",
       "      <td>34.23</td>\n",
       "      <td>56</td>\n",
       "      <td>clear sky</td>\n",
       "    </tr>\n",
       "    <tr>\n",
       "      <th>2</th>\n",
       "      <td>40.756755</td>\n",
       "      <td>41.63</td>\n",
       "      <td>45</td>\n",
       "      <td>clear sky</td>\n",
       "    </tr>\n",
       "    <tr>\n",
       "      <th>3</th>\n",
       "      <td>40.751357</td>\n",
       "      <td>90.23</td>\n",
       "      <td>50</td>\n",
       "      <td>few clouds</td>\n",
       "    </tr>\n",
       "    <tr>\n",
       "      <th>4</th>\n",
       "      <td>40.753678</td>\n",
       "      <td>42.53</td>\n",
       "      <td>53</td>\n",
       "      <td>clear sky</td>\n",
       "    </tr>\n",
       "  </tbody>\n",
       "</table>\n",
       "</div>"
      ],
      "text/plain": [
       "   Pickup Lat  Temp (F)  Humidity % Description\n",
       "0   40.762669     25.23          37   clear sky\n",
       "1   40.762238     34.23          56   clear sky\n",
       "2   40.756755     41.63          45   clear sky\n",
       "3   40.751357     90.23          50  few clouds\n",
       "4   40.753678     42.53          53   clear sky"
      ]
     },
     "execution_count": 11,
     "metadata": {},
     "output_type": "execute_result"
    }
   ],
   "source": [
    "# Making the weather dataframe\n",
    "weather_df = pd.DataFrame(uber_data)\n",
    "\n",
    "weather_df.head()"
   ]
  },
  {
   "cell_type": "code",
   "execution_count": 12,
   "metadata": {},
   "outputs": [
    {
     "data": {
      "text/html": [
       "<div>\n",
       "<style scoped>\n",
       "    .dataframe tbody tr th:only-of-type {\n",
       "        vertical-align: middle;\n",
       "    }\n",
       "\n",
       "    .dataframe tbody tr th {\n",
       "        vertical-align: top;\n",
       "    }\n",
       "\n",
       "    .dataframe thead th {\n",
       "        text-align: right;\n",
       "    }\n",
       "</style>\n",
       "<table border=\"1\" class=\"dataframe\">\n",
       "  <thead>\n",
       "    <tr style=\"text-align: right;\">\n",
       "      <th></th>\n",
       "      <th>ID</th>\n",
       "      <th>Charge</th>\n",
       "      <th>Pickup Lon</th>\n",
       "      <th>Pickup Lat</th>\n",
       "      <th>Dropoff Lon</th>\n",
       "      <th>Dropoff Lat</th>\n",
       "      <th>Passenger Count</th>\n",
       "      <th>Date Formatted Final</th>\n",
       "      <th>Temp (F)</th>\n",
       "      <th>Humidity %</th>\n",
       "      <th>Description</th>\n",
       "    </tr>\n",
       "  </thead>\n",
       "  <tbody>\n",
       "    <tr>\n",
       "      <th>0</th>\n",
       "      <td>52076375</td>\n",
       "      <td>6.6</td>\n",
       "      <td>-73.983356</td>\n",
       "      <td>40.762669</td>\n",
       "      <td>-73.979511</td>\n",
       "      <td>40.744648</td>\n",
       "      <td>2</td>\n",
       "      <td>1236124709</td>\n",
       "      <td>25.23</td>\n",
       "      <td>37</td>\n",
       "      <td>clear sky</td>\n",
       "    </tr>\n",
       "    <tr>\n",
       "      <th>1</th>\n",
       "      <td>10985447</td>\n",
       "      <td>13.0</td>\n",
       "      <td>-73.993492</td>\n",
       "      <td>40.762238</td>\n",
       "      <td>-73.961349</td>\n",
       "      <td>40.756355</td>\n",
       "      <td>1</td>\n",
       "      <td>1420290921</td>\n",
       "      <td>34.23</td>\n",
       "      <td>56</td>\n",
       "      <td>clear sky</td>\n",
       "    </tr>\n",
       "    <tr>\n",
       "      <th>2</th>\n",
       "      <td>12102837</td>\n",
       "      <td>10.5</td>\n",
       "      <td>-73.972224</td>\n",
       "      <td>40.756755</td>\n",
       "      <td>-73.993970</td>\n",
       "      <td>40.727392</td>\n",
       "      <td>1</td>\n",
       "      <td>1391292503</td>\n",
       "      <td>41.63</td>\n",
       "      <td>45</td>\n",
       "      <td>clear sky</td>\n",
       "    </tr>\n",
       "    <tr>\n",
       "      <th>3</th>\n",
       "      <td>16796350</td>\n",
       "      <td>7.3</td>\n",
       "      <td>-73.993995</td>\n",
       "      <td>40.751357</td>\n",
       "      <td>-73.994408</td>\n",
       "      <td>40.763447</td>\n",
       "      <td>1</td>\n",
       "      <td>1277667480</td>\n",
       "      <td>90.23</td>\n",
       "      <td>50</td>\n",
       "      <td>few clouds</td>\n",
       "    </tr>\n",
       "    <tr>\n",
       "      <th>4</th>\n",
       "      <td>26647756</td>\n",
       "      <td>4.1</td>\n",
       "      <td>-73.980909</td>\n",
       "      <td>40.753678</td>\n",
       "      <td>-73.980392</td>\n",
       "      <td>40.746481</td>\n",
       "      <td>1</td>\n",
       "      <td>1327504469</td>\n",
       "      <td>42.53</td>\n",
       "      <td>53</td>\n",
       "      <td>clear sky</td>\n",
       "    </tr>\n",
       "  </tbody>\n",
       "</table>\n",
       "</div>"
      ],
      "text/plain": [
       "         ID  Charge  Pickup Lon  Pickup Lat  Dropoff Lon  Dropoff Lat  \\\n",
       "0  52076375     6.6  -73.983356   40.762669   -73.979511    40.744648   \n",
       "1  10985447    13.0  -73.993492   40.762238   -73.961349    40.756355   \n",
       "2  12102837    10.5  -73.972224   40.756755   -73.993970    40.727392   \n",
       "3  16796350     7.3  -73.993995   40.751357   -73.994408    40.763447   \n",
       "4  26647756     4.1  -73.980909   40.753678   -73.980392    40.746481   \n",
       "\n",
       "   Passenger Count  Date Formatted Final  Temp (F)  Humidity % Description  \n",
       "0                2            1236124709     25.23          37   clear sky  \n",
       "1                1            1420290921     34.23          56   clear sky  \n",
       "2                1            1391292503     41.63          45   clear sky  \n",
       "3                1            1277667480     90.23          50  few clouds  \n",
       "4                1            1327504469     42.53          53   clear sky  "
      ]
     },
     "execution_count": 12,
     "metadata": {},
     "output_type": "execute_result"
    }
   ],
   "source": [
    "# Merging the data for statistical use\n",
    "final_df = clean_df.merge(weather_df, on = \"Pickup Lat\")\n",
    "\n",
    "final_df.head()"
   ]
  },
  {
   "cell_type": "code",
   "execution_count": 13,
   "metadata": {},
   "outputs": [
    {
     "data": {
      "text/plain": [
       "clear sky     4\n",
       "few clouds    1\n",
       "Name: Description, dtype: int64"
      ]
     },
     "execution_count": 13,
     "metadata": {},
     "output_type": "execute_result"
    }
   ],
   "source": [
    "weather_labels = final_df[\"Description\"].unique()\n",
    "weather_count = final_df[\"Description\"].value_counts()\n",
    "weather_count"
   ]
  },
  {
   "attachments": {},
   "cell_type": "markdown",
   "metadata": {},
   "source": [
    "# Graphing the data\n",
    "Now we must take a closer look to understand this data"
   ]
  },
  {
   "cell_type": "code",
   "execution_count": 14,
   "metadata": {},
   "outputs": [],
   "source": [
    "# Creating a linear regression fuction\n",
    "def lregress(x, y, var):\n",
    "    \n",
    "    res = stats.linregress(x, y)\n",
    "\n",
    "    print(f\"R-squared: {res.rvalue**2:.6f}\")\n",
    "\n",
    "    plt.scatter(x, y, marker=\"d\", color=\"red\", label= \"Data\")\n",
    "    plt.plot(x, res.intercept + res.slope*x, label = \"Regression Line\")\n",
    "    plt.title(\"Linear Regression\")\n",
    "    plt.xlabel(\"Latitude\")\n",
    "    plt.ylabel(f\"{var}\")\n",
    "    plt.legend()\n",
    "    plt.show()"
   ]
  },
  {
   "attachments": {},
   "cell_type": "markdown",
   "metadata": {},
   "source": [
    "## Weather vs. Uber Rides\n",
    "\n"
   ]
  },
  {
   "cell_type": "code",
   "execution_count": 15,
   "metadata": {},
   "outputs": [
    {
     "data": {
      "image/png": "[encoded data removed]",
      "text/plain": [
       "<Figure size 432x288 with 1 Axes>"
      ]
     },
     "metadata": {},
     "output_type": "display_data"
    }
   ],
   "source": [
    "plt.pie(weather_count, labels = weather_labels, autopct = \"%1.1f%%\")\n",
    "\n",
    "# Save Figure in png file inside Resources Folder\n",
    "plt.savefig(\"Resources/pie_chart.png\")\n"
   ]
  },
  {
   "cell_type": "code",
   "execution_count": 16,
   "metadata": {},
   "outputs": [
    {
     "data": {
      "image/png": "[encoded data removed]",
      "text/plain": [
       "<Figure size 432x288 with 1 Axes>"
      ]
     },
     "metadata": {
      "needs_background": "light"
     },
     "output_type": "display_data"
    }
   ],
   "source": [
    "plt.bar(weather_labels, weather_count)\n",
    "plt.title(\"Weather vs Rides\")\n",
    "plt.xlabel(\"Weather Description\")\n",
    "plt.ylabel(\"# of Rides\")\n",
    "plt.xticks(rotation = 90)\n",
    "\n",
    "# Save Figure in png file inside Resources folder\n",
    "plt.savefig(\"Resources/WeathervsRides.png\")"
   ]
  },
  {
   "cell_type": "code",
   "execution_count": 17,
   "metadata": {},
   "outputs": [
    {
     "data": {
      "image/png": "[encoded data removed]",
      "text/plain": [
       "<Figure size 432x288 with 1 Axes>"
      ]
     },
     "metadata": {
      "needs_background": "light"
     },
     "output_type": "display_data"
    }
   ],
   "source": [
    "plt.bar(final_df[\"Description\"], final_df[\"Passenger Count\"])\n",
    "plt.title(\"Weather vs Passenger Count\")\n",
    "plt.xlabel(\"Weather Description\")\n",
    "plt.ylabel(\"# of Passengers on Ride\")\n",
    "plt.xticks(rotation = 90)\n",
    "\n",
    "# Save Figure in png file inside Resources Folder\n",
    "plt.savefig(\"Resources/WeathervsPassengerCount.png\")\n"
   ]
  },
  {
   "cell_type": "code",
   "execution_count": 18,
   "metadata": {},
   "outputs": [
    {
     "data": {
      "image/png": "[encoded data removed]",
      "text/plain": [
       "<Figure size 432x288 with 1 Axes>"
      ]
     },
     "metadata": {
      "needs_background": "light"
     },
     "output_type": "display_data"
    }
   ],
   "source": [
    "plt.bar(final_df[\"Description\"], final_df[\"Charge\"])\n",
    "plt.title(\"Weather vs Max Cost\")\n",
    "plt.xlabel(\"Weather Description\")\n",
    "plt.ylabel(\"Max Cost ($)\")\n",
    "plt.xticks(rotation = 90)\n",
    "\n",
    "# Save Figure in png file inside Resources Folder\n",
    "plt.savefig(\"Resources/WeathervsMaxCost.png\")"
   ]
  },
  {
   "attachments": {},
   "cell_type": "markdown",
   "metadata": {},
   "source": [
    "## Latitude vs. Weather"
   ]
  },
  {
   "cell_type": "code",
   "execution_count": 19,
   "metadata": {},
   "outputs": [
    {
     "data": {
      "image/png": "[encoded data removed]",
      "text/plain": [
       "<Figure size 432x288 with 1 Axes>"
      ]
     },
     "metadata": {
      "needs_background": "light"
     },
     "output_type": "display_data"
    }
   ],
   "source": [
    "plt.scatter(final_df[\"Pickup Lat\"], final_df[\"Temp (F)\"])\n",
    "plt.title(\"Latitude vs. Temp\")\n",
    "plt.xlabel(\"Latitude\")\n",
    "plt.ylabel(\"Temperature (F)\")\n",
    "\n",
    "# Save Figure in png file inside Resources Folder\n",
    "plt.savefig(\"Resources/LatvsTemp.png\")"
   ]
  },
  {
   "cell_type": "code",
   "execution_count": 20,
   "metadata": {},
   "outputs": [
    {
     "name": "stdout",
     "output_type": "stream",
     "text": [
      "R-squared: 0.670046\n"
     ]
    },
    {
     "data": {
      "image/png": "[encoded data removed]",
      "text/plain": [
       "<Figure size 432x288 with 1 Axes>"
      ]
     },
     "metadata": {
      "needs_background": "light"
     },
     "output_type": "display_data"
    },
    {
     "data": {
      "text/plain": [
       "<Figure size 432x288 with 0 Axes>"
      ]
     },
     "metadata": {},
     "output_type": "display_data"
    }
   ],
   "source": [
    "lregress(final_df[\"Pickup Lat\"], final_df[\"Temp (F)\"], \"Temperature (F)\")\n",
    "\n",
    "# Save Figure in png file inside Resources Folder\n",
    "plt.savefig(\"Resources/LinearRegressionlattemp.png\")"
   ]
  },
  {
   "cell_type": "code",
   "execution_count": 23,
   "metadata": {},
   "outputs": [
    {
     "data": {
      "image/png": "[encoded data removed]",
      "text/plain": [
       "<Figure size 432x288 with 1 Axes>"
      ]
     },
     "metadata": {
      "needs_background": "light"
     },
     "output_type": "display_data"
    }
   ],
   "source": [
    "plt.scatter(final_df[\"Charge\"], final_df[\"Temp (F)\"])\n",
    "plt.title(\"Charge vs. Temp\")\n",
    "plt.xlabel(\"Latitude\")\n",
    "plt.ylabel(\"Temperature (F)\")\n",
    "\n",
    "# Save Figure in png file inside Resources Folder\n",
    "plt.savefig(\"Resources/chargevsTemp.png\")"
   ]
  },
  {
   "cell_type": "code",
   "execution_count": 22,
   "metadata": {},
   "outputs": [
    {
     "name": "stdout",
     "output_type": "stream",
     "text": [
      "R-squared: 0.028389\n"
     ]
    },
    {
     "data": {
      "image/png": "[encoded data removed]",
      "text/plain": [
       "<Figure size 432x288 with 1 Axes>"
      ]
     },
     "metadata": {
      "needs_background": "light"
     },
     "output_type": "display_data"
    },
    {
     "data": {
      "text/plain": [
       "<Figure size 432x288 with 0 Axes>"
      ]
     },
     "metadata": {},
     "output_type": "display_data"
    }
   ],
   "source": [
    "lregress(final_df[\"Charge\"], final_df[\"Temp (F)\"], \"Temperature (F)\")\n",
    "\n",
    "# Save Figure in png file inside Resources Folder\n",
    "plt.savefig(\"Resources/LinearRegressionchargetemp.png\")"
   ]
  }
 ],
 "metadata": {
  "kernelspec": {
   "display_name": "PythonData",
   "language": "python",
   "name": "python3"
  },
  "language_info": {
   "codemirror_mode": {
    "name": "ipython",
    "version": 3
   },
   "file_extension": ".py",
   "mimetype": "text/x-python",
   "name": "python",
   "nbconvert_exporter": "python",
   "pygments_lexer": "ipython3",
   "version": "3.7.7"
  },
  "orig_nbformat": 4
 },
 "nbformat": 4,
 "nbformat_minor": 2
}
